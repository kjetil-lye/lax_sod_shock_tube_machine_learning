{
 "cells": [
  {
   "cell_type": "code",
   "execution_count": 1,
   "metadata": {},
   "outputs": [],
   "source": [
    "\n",
    "import matplotlib\n",
    "%matplotlib inline\n",
    "import sys\n",
    "sys.path.append('../python')\n",
    "import post_process_hyperparameters\n",
    "import plot_info\n",
    "import print_table\n",
    "import intersections"
   ]
  },
  {
   "cell_type": "markdown",
   "metadata": {},
   "source": [
    "# Intesections where speedup => 2 and prediction <0.05\n",
    "## Sobol"
   ]
  },
  {
   "cell_type": "code",
   "execution_count": null,
   "metadata": {},
   "outputs": [],
   "source": [
    "data_source = 'QMC_from_data'\n",
    "convergence_rate = 0.75 # measured emperically \n",
    "filenames = {\n",
    "             'Q1' : '../data/laxsod_Q1.json.bz2',\n",
    "             'Q2' : '../data/laxsod_Q2.json.bz2',\n",
    "             'Q3' : '../data/laxsod_Q3.json.bz2',\n",
    "             'EK1' : '../data/laxsod_EK1.json.bz2',\n",
    "             'EK2' : '../data/laxsod_EK2.json.bz2',\n",
    "             'EK3' : '../data/laxsod_EK3.json.bz2'\n",
    "            }\n",
    "intersections.find_intersections_acceptable(filenames, data_source, convergence_rate,\n",
    "                                           min_speedup=1.5, max_prediction=0.05,\n",
    "                                           print_filename='acceptable_laxsod.json',\n",
    "                                           table_filename='acceptable_laxsod')"
   ]
  },
  {
   "cell_type": "markdown",
   "metadata": {},
   "source": [
    "# Monte Carlo"
   ]
  },
  {
   "cell_type": "code",
   "execution_count": null,
   "metadata": {},
   "outputs": [],
   "source": [
    "data_source = 'MC_from_data'\n",
    "convergence_rate = 0.5 # measured emperically \n",
    "filenames = {\n",
    "             'Q1' : '../data/laxsod_mc_Q1.json.bz2',\n",
    "             'Q2' : '../data/laxsod_mc_Q2.json.bz2',\n",
    "             'Q3' : '../data/laxsod_mc_Q3.json.bz2',\n",
    "             'EK1' : '../data/laxsod_mc_EK1.json.bz2',\n",
    "             'EK2' : '../data/laxsod_mc_EK2.json.bz2',\n",
    "             'EK3' : '../data/laxsod_mc_EK3.json.bz2'\n",
    "            }\n",
    "intersections.find_intersections_acceptable(filenames, data_source, convergence_rate,\n",
    "                                           min_speedup=1.5, max_prediction=0.05,\n",
    "                                           print_filename='acceptable_laxsodmc.json',\n",
    "                                           table_filename='acceptable_laxsodmc')"
   ]
  },
  {
   "cell_type": "code",
   "execution_count": null,
   "metadata": {},
   "outputs": [],
   "source": []
  }
 ],
 "metadata": {
  "kernelspec": {
   "display_name": "Python 3",
   "language": "python",
   "name": "python3"
  },
  "language_info": {
   "codemirror_mode": {
    "name": "ipython",
    "version": 3
   },
   "file_extension": ".py",
   "mimetype": "text/x-python",
   "name": "python",
   "nbconvert_exporter": "python",
   "pygments_lexer": "ipython3",
   "version": "3.7.3"
  }
 },
 "nbformat": 4,
 "nbformat_minor": 2
}
